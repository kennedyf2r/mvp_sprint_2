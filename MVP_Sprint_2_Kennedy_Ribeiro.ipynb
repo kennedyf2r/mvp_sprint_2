{
  "cells": [
    {
      "cell_type": "markdown",
      "metadata": {
        "id": "view-in-github",
        "colab_type": "text"
      },
      "source": [
        "<a href=\"https://colab.research.google.com/github/kennedyf2r/mvp_sprint_2/blob/main/MVP_Sprint_2_Kennedy_Ribeiro.ipynb\" target=\"_parent\"><img src=\"https://colab.research.google.com/assets/colab-badge.svg\" alt=\"Open In Colab\"/></a>"
      ]
    },
    {
      "cell_type": "markdown",
      "metadata": {
        "id": "HVMVrjpaR4mm"
      },
      "source": [
        "#MVP Machine Learning & Analytics - PUC RIO - Sprint 2\n",
        "##Profs. Tatiana Escovedo e Hélio Lopes\n",
        "###Aluno: Francisco Kennedy Ribeiro da Rocha"
      ]
    },
    {
      "cell_type": "markdown",
      "source": [
        "# **1 - Definição do Problema - Classificação de cogumelos**"
      ],
      "metadata": {
        "id": "VbQSgMoTbKpl"
      }
    },
    {
      "cell_type": "markdown",
      "metadata": {
        "id": "ag99Yia3ZLrQ"
      },
      "source": [
        "1.   **Descrição do Problema**:\n",
        "\n",
        "  O problema consiste em desenvolver um modelo de classificação capaz de distinguir cogumelos comestíveis de venenosos com base em suas características. Utilizando o Mushroom Dataset, que é uma versão tratada do conjunto de dados original, pretendemos construir um modelo de machine learning que possa prever com segurança se um cogumelo é comestível (classe 0) ou venenoso (classe 1).\n",
        "\n",
        "2. **Premissas ou Hipóteses**:\n",
        "\n",
        "  Partimos do pressuposto de que as características fornecidas no dataset, como diâmetro do chapéu, formato do chapéu, cor das lamelas, entre outras, são suficientes para distinguir com precisão entre cogumelos comestíveis e venenosos. Também assumimos que o pré-processamento realizado, incluindo imputação modal, codificação one-hot, normalização z-score e seleção de atributos, foi eficaz na preparação dos dados para modelagem.\n",
        "\n",
        "3. **Restrições ou Condições**:\n",
        "\n",
        "  As principais restrições incluem a necessidade de garantir a segurança alimentar, evitando a ingestão de cogumelos venenosos. Portanto, é crucial que o modelo desenvolvido tenha uma alta taxa de precisão na previsão da comestibilidade dos cogumelos. Além disso, consideramos importante a interpretabilidade do modelo, para que os resultados possam ser compreendidos e utilizados de forma eficaz por usuários não técnicos.\n",
        "\n",
        "4. **Descrição do Dataset**:\n",
        "O Mushroom Dataset consiste em 9 colunas, representando diferentes características dos cogumelos, como diâmetro do chapéu, formato do chapéu, cor das lamelas, entre outras. Além disso, inclui a classe alvo, indicando se o cogumelo é comestível (classe 0) ou venenoso (classe 1).\n",
        "\n",
        "  As colunas são as seguintes:\n",
        "\n",
        "  1 - Cap Diameter\n",
        "\n",
        "  2 - Cap Shape\n",
        "\n",
        "  3 - Gill Attachment\n",
        "\n",
        "  4 - Gill Color\n",
        "\n",
        "  5 - Stem Height\n",
        "\n",
        "  6 - Stem Width\n",
        "\n",
        "  7 - Stem Color\n",
        "\n",
        "  8 - Season\n",
        "  \n",
        "  9 - Target Class\n",
        "\n",
        "Com base nessas considerações, o objetivo final é desenvolver um modelo de machine learning que possa ajudar na identificação segura de cogumelos comestíveis e venenosos."
      ]
    },
    {
      "cell_type": "markdown",
      "metadata": {
        "id": "hIL0KShfZl2L"
      },
      "source": [
        "# **2 - Preparação do Dados**"
      ]
    },
    {
      "cell_type": "markdown",
      "metadata": {
        "id": "Zb1c-3tvdhuW"
      },
      "source": [
        "## 2.1 Configurações iniciais"
      ]
    },
    {
      "cell_type": "code",
      "execution_count": null,
      "metadata": {
        "id": "sPMp7QfrBZNd"
      },
      "outputs": [],
      "source": [
        "# Configuração para não exibir os warnings\n",
        "import warnings\n",
        "warnings.filterwarnings(\"ignore\")\n",
        "\n",
        "# Imports necessários\n",
        "import pandas as pd\n",
        "import numpy as np\n",
        "import matplotlib.pyplot as plt\n",
        "\n",
        "from sklearn.datasets import load_wine # para importar o dataset wine\n",
        "from sklearn.model_selection import train_test_split # para particionar em bases de treino e teste (holdout)\n",
        "from sklearn.model_selection import KFold # para preparar os folds da validação cruzada\n",
        "from sklearn.model_selection import cross_val_score # para executar a validação cruzada\n",
        "from sklearn.metrics import accuracy_score # para a exibição da acurácia do modelo\n",
        "from sklearn.neighbors import KNeighborsClassifier # algoritmo KNN\n",
        "from sklearn.tree import DecisionTreeClassifier # algoritmo Árvore de Classificação\n",
        "from sklearn.naive_bayes import GaussianNB # algoritmo Naive Bayes\n",
        "from sklearn.svm import SVC # algoritmo SVM\n",
        "from sklearn.ensemble import RandomForestClassifier # algoritmo Floresta Aleatória\n",
        "from sklearn.model_selection import learning_curve # Importar a função learning_curve para criar curvas de aprendizado\n",
        "from scipy.stats import randint # Importando a distribuição de números inteiros para o ajuste dos hiperparâmetros\n",
        "from sklearn.model_selection import RandomizedSearchCV # Importando a função RandomizedSearchCV para a busca aleatória de hiperparâmetros\n",
        "from sklearn.linear_model import LogisticRegression #Algoritmo regressão linear"
      ]
    },
    {
      "cell_type": "markdown",
      "metadata": {
        "id": "Ceas6H-_dmeg"
      },
      "source": [
        "## 2.2 Importação do Dataset"
      ]
    },
    {
      "cell_type": "code",
      "execution_count": null,
      "metadata": {
        "colab": {
          "base_uri": "https://localhost:8080/",
          "height": 206
        },
        "id": "89zyE1_gdWZM",
        "outputId": "a73fc5d0-6c94-495c-edc2-84272018434f"
      },
      "outputs": [
        {
          "output_type": "execute_result",
          "data": {
            "text/plain": [
              "   cap-diameter  cap-shape  gill-attachment  gill-color  stem-height  \\\n",
              "0          1372          2                2          10     3.807467   \n",
              "1          1461          2                2          10     3.807467   \n",
              "2          1371          2                2          10     3.612496   \n",
              "3          1261          6                2          10     3.787572   \n",
              "4          1305          6                2          10     3.711971   \n",
              "\n",
              "   stem-width  stem-color    season  class  \n",
              "0        1545          11  1.804273      1  \n",
              "1        1557          11  1.804273      1  \n",
              "2        1566          11  1.804273      1  \n",
              "3        1566          11  1.804273      1  \n",
              "4        1464          11  0.943195      1  "
            ],
            "text/html": [
              "\n",
              "  <div id=\"df-3138dd0a-e508-4c23-b154-62d02d323455\" class=\"colab-df-container\">\n",
              "    <div>\n",
              "<style scoped>\n",
              "    .dataframe tbody tr th:only-of-type {\n",
              "        vertical-align: middle;\n",
              "    }\n",
              "\n",
              "    .dataframe tbody tr th {\n",
              "        vertical-align: top;\n",
              "    }\n",
              "\n",
              "    .dataframe thead th {\n",
              "        text-align: right;\n",
              "    }\n",
              "</style>\n",
              "<table border=\"1\" class=\"dataframe\">\n",
              "  <thead>\n",
              "    <tr style=\"text-align: right;\">\n",
              "      <th></th>\n",
              "      <th>cap-diameter</th>\n",
              "      <th>cap-shape</th>\n",
              "      <th>gill-attachment</th>\n",
              "      <th>gill-color</th>\n",
              "      <th>stem-height</th>\n",
              "      <th>stem-width</th>\n",
              "      <th>stem-color</th>\n",
              "      <th>season</th>\n",
              "      <th>class</th>\n",
              "    </tr>\n",
              "  </thead>\n",
              "  <tbody>\n",
              "    <tr>\n",
              "      <th>0</th>\n",
              "      <td>1372</td>\n",
              "      <td>2</td>\n",
              "      <td>2</td>\n",
              "      <td>10</td>\n",
              "      <td>3.807467</td>\n",
              "      <td>1545</td>\n",
              "      <td>11</td>\n",
              "      <td>1.804273</td>\n",
              "      <td>1</td>\n",
              "    </tr>\n",
              "    <tr>\n",
              "      <th>1</th>\n",
              "      <td>1461</td>\n",
              "      <td>2</td>\n",
              "      <td>2</td>\n",
              "      <td>10</td>\n",
              "      <td>3.807467</td>\n",
              "      <td>1557</td>\n",
              "      <td>11</td>\n",
              "      <td>1.804273</td>\n",
              "      <td>1</td>\n",
              "    </tr>\n",
              "    <tr>\n",
              "      <th>2</th>\n",
              "      <td>1371</td>\n",
              "      <td>2</td>\n",
              "      <td>2</td>\n",
              "      <td>10</td>\n",
              "      <td>3.612496</td>\n",
              "      <td>1566</td>\n",
              "      <td>11</td>\n",
              "      <td>1.804273</td>\n",
              "      <td>1</td>\n",
              "    </tr>\n",
              "    <tr>\n",
              "      <th>3</th>\n",
              "      <td>1261</td>\n",
              "      <td>6</td>\n",
              "      <td>2</td>\n",
              "      <td>10</td>\n",
              "      <td>3.787572</td>\n",
              "      <td>1566</td>\n",
              "      <td>11</td>\n",
              "      <td>1.804273</td>\n",
              "      <td>1</td>\n",
              "    </tr>\n",
              "    <tr>\n",
              "      <th>4</th>\n",
              "      <td>1305</td>\n",
              "      <td>6</td>\n",
              "      <td>2</td>\n",
              "      <td>10</td>\n",
              "      <td>3.711971</td>\n",
              "      <td>1464</td>\n",
              "      <td>11</td>\n",
              "      <td>0.943195</td>\n",
              "      <td>1</td>\n",
              "    </tr>\n",
              "  </tbody>\n",
              "</table>\n",
              "</div>\n",
              "    <div class=\"colab-df-buttons\">\n",
              "\n",
              "  <div class=\"colab-df-container\">\n",
              "    <button class=\"colab-df-convert\" onclick=\"convertToInteractive('df-3138dd0a-e508-4c23-b154-62d02d323455')\"\n",
              "            title=\"Convert this dataframe to an interactive table.\"\n",
              "            style=\"display:none;\">\n",
              "\n",
              "  <svg xmlns=\"http://www.w3.org/2000/svg\" height=\"24px\" viewBox=\"0 -960 960 960\">\n",
              "    <path d=\"M120-120v-720h720v720H120Zm60-500h600v-160H180v160Zm220 220h160v-160H400v160Zm0 220h160v-160H400v160ZM180-400h160v-160H180v160Zm440 0h160v-160H620v160ZM180-180h160v-160H180v160Zm440 0h160v-160H620v160Z\"/>\n",
              "  </svg>\n",
              "    </button>\n",
              "\n",
              "  <style>\n",
              "    .colab-df-container {\n",
              "      display:flex;\n",
              "      gap: 12px;\n",
              "    }\n",
              "\n",
              "    .colab-df-convert {\n",
              "      background-color: #E8F0FE;\n",
              "      border: none;\n",
              "      border-radius: 50%;\n",
              "      cursor: pointer;\n",
              "      display: none;\n",
              "      fill: #1967D2;\n",
              "      height: 32px;\n",
              "      padding: 0 0 0 0;\n",
              "      width: 32px;\n",
              "    }\n",
              "\n",
              "    .colab-df-convert:hover {\n",
              "      background-color: #E2EBFA;\n",
              "      box-shadow: 0px 1px 2px rgba(60, 64, 67, 0.3), 0px 1px 3px 1px rgba(60, 64, 67, 0.15);\n",
              "      fill: #174EA6;\n",
              "    }\n",
              "\n",
              "    .colab-df-buttons div {\n",
              "      margin-bottom: 4px;\n",
              "    }\n",
              "\n",
              "    [theme=dark] .colab-df-convert {\n",
              "      background-color: #3B4455;\n",
              "      fill: #D2E3FC;\n",
              "    }\n",
              "\n",
              "    [theme=dark] .colab-df-convert:hover {\n",
              "      background-color: #434B5C;\n",
              "      box-shadow: 0px 1px 3px 1px rgba(0, 0, 0, 0.15);\n",
              "      filter: drop-shadow(0px 1px 2px rgba(0, 0, 0, 0.3));\n",
              "      fill: #FFFFFF;\n",
              "    }\n",
              "  </style>\n",
              "\n",
              "    <script>\n",
              "      const buttonEl =\n",
              "        document.querySelector('#df-3138dd0a-e508-4c23-b154-62d02d323455 button.colab-df-convert');\n",
              "      buttonEl.style.display =\n",
              "        google.colab.kernel.accessAllowed ? 'block' : 'none';\n",
              "\n",
              "      async function convertToInteractive(key) {\n",
              "        const element = document.querySelector('#df-3138dd0a-e508-4c23-b154-62d02d323455');\n",
              "        const dataTable =\n",
              "          await google.colab.kernel.invokeFunction('convertToInteractive',\n",
              "                                                    [key], {});\n",
              "        if (!dataTable) return;\n",
              "\n",
              "        const docLinkHtml = 'Like what you see? Visit the ' +\n",
              "          '<a target=\"_blank\" href=https://colab.research.google.com/notebooks/data_table.ipynb>data table notebook</a>'\n",
              "          + ' to learn more about interactive tables.';\n",
              "        element.innerHTML = '';\n",
              "        dataTable['output_type'] = 'display_data';\n",
              "        await google.colab.output.renderOutput(dataTable, element);\n",
              "        const docLink = document.createElement('div');\n",
              "        docLink.innerHTML = docLinkHtml;\n",
              "        element.appendChild(docLink);\n",
              "      }\n",
              "    </script>\n",
              "  </div>\n",
              "\n",
              "\n",
              "<div id=\"df-2b2cb1e2-1f67-4a6d-9760-7d21eeff0e9c\">\n",
              "  <button class=\"colab-df-quickchart\" onclick=\"quickchart('df-2b2cb1e2-1f67-4a6d-9760-7d21eeff0e9c')\"\n",
              "            title=\"Suggest charts\"\n",
              "            style=\"display:none;\">\n",
              "\n",
              "<svg xmlns=\"http://www.w3.org/2000/svg\" height=\"24px\"viewBox=\"0 0 24 24\"\n",
              "     width=\"24px\">\n",
              "    <g>\n",
              "        <path d=\"M19 3H5c-1.1 0-2 .9-2 2v14c0 1.1.9 2 2 2h14c1.1 0 2-.9 2-2V5c0-1.1-.9-2-2-2zM9 17H7v-7h2v7zm4 0h-2V7h2v10zm4 0h-2v-4h2v4z\"/>\n",
              "    </g>\n",
              "</svg>\n",
              "  </button>\n",
              "\n",
              "<style>\n",
              "  .colab-df-quickchart {\n",
              "      --bg-color: #E8F0FE;\n",
              "      --fill-color: #1967D2;\n",
              "      --hover-bg-color: #E2EBFA;\n",
              "      --hover-fill-color: #174EA6;\n",
              "      --disabled-fill-color: #AAA;\n",
              "      --disabled-bg-color: #DDD;\n",
              "  }\n",
              "\n",
              "  [theme=dark] .colab-df-quickchart {\n",
              "      --bg-color: #3B4455;\n",
              "      --fill-color: #D2E3FC;\n",
              "      --hover-bg-color: #434B5C;\n",
              "      --hover-fill-color: #FFFFFF;\n",
              "      --disabled-bg-color: #3B4455;\n",
              "      --disabled-fill-color: #666;\n",
              "  }\n",
              "\n",
              "  .colab-df-quickchart {\n",
              "    background-color: var(--bg-color);\n",
              "    border: none;\n",
              "    border-radius: 50%;\n",
              "    cursor: pointer;\n",
              "    display: none;\n",
              "    fill: var(--fill-color);\n",
              "    height: 32px;\n",
              "    padding: 0;\n",
              "    width: 32px;\n",
              "  }\n",
              "\n",
              "  .colab-df-quickchart:hover {\n",
              "    background-color: var(--hover-bg-color);\n",
              "    box-shadow: 0 1px 2px rgba(60, 64, 67, 0.3), 0 1px 3px 1px rgba(60, 64, 67, 0.15);\n",
              "    fill: var(--button-hover-fill-color);\n",
              "  }\n",
              "\n",
              "  .colab-df-quickchart-complete:disabled,\n",
              "  .colab-df-quickchart-complete:disabled:hover {\n",
              "    background-color: var(--disabled-bg-color);\n",
              "    fill: var(--disabled-fill-color);\n",
              "    box-shadow: none;\n",
              "  }\n",
              "\n",
              "  .colab-df-spinner {\n",
              "    border: 2px solid var(--fill-color);\n",
              "    border-color: transparent;\n",
              "    border-bottom-color: var(--fill-color);\n",
              "    animation:\n",
              "      spin 1s steps(1) infinite;\n",
              "  }\n",
              "\n",
              "  @keyframes spin {\n",
              "    0% {\n",
              "      border-color: transparent;\n",
              "      border-bottom-color: var(--fill-color);\n",
              "      border-left-color: var(--fill-color);\n",
              "    }\n",
              "    20% {\n",
              "      border-color: transparent;\n",
              "      border-left-color: var(--fill-color);\n",
              "      border-top-color: var(--fill-color);\n",
              "    }\n",
              "    30% {\n",
              "      border-color: transparent;\n",
              "      border-left-color: var(--fill-color);\n",
              "      border-top-color: var(--fill-color);\n",
              "      border-right-color: var(--fill-color);\n",
              "    }\n",
              "    40% {\n",
              "      border-color: transparent;\n",
              "      border-right-color: var(--fill-color);\n",
              "      border-top-color: var(--fill-color);\n",
              "    }\n",
              "    60% {\n",
              "      border-color: transparent;\n",
              "      border-right-color: var(--fill-color);\n",
              "    }\n",
              "    80% {\n",
              "      border-color: transparent;\n",
              "      border-right-color: var(--fill-color);\n",
              "      border-bottom-color: var(--fill-color);\n",
              "    }\n",
              "    90% {\n",
              "      border-color: transparent;\n",
              "      border-bottom-color: var(--fill-color);\n",
              "    }\n",
              "  }\n",
              "</style>\n",
              "\n",
              "  <script>\n",
              "    async function quickchart(key) {\n",
              "      const quickchartButtonEl =\n",
              "        document.querySelector('#' + key + ' button');\n",
              "      quickchartButtonEl.disabled = true;  // To prevent multiple clicks.\n",
              "      quickchartButtonEl.classList.add('colab-df-spinner');\n",
              "      try {\n",
              "        const charts = await google.colab.kernel.invokeFunction(\n",
              "            'suggestCharts', [key], {});\n",
              "      } catch (error) {\n",
              "        console.error('Error during call to suggestCharts:', error);\n",
              "      }\n",
              "      quickchartButtonEl.classList.remove('colab-df-spinner');\n",
              "      quickchartButtonEl.classList.add('colab-df-quickchart-complete');\n",
              "    }\n",
              "    (() => {\n",
              "      let quickchartButtonEl =\n",
              "        document.querySelector('#df-2b2cb1e2-1f67-4a6d-9760-7d21eeff0e9c button');\n",
              "      quickchartButtonEl.style.display =\n",
              "        google.colab.kernel.accessAllowed ? 'block' : 'none';\n",
              "    })();\n",
              "  </script>\n",
              "</div>\n",
              "\n",
              "    </div>\n",
              "  </div>\n"
            ],
            "application/vnd.google.colaboratory.intrinsic+json": {
              "type": "dataframe",
              "variable_name": "dataset",
              "summary": "{\n  \"name\": \"dataset\",\n  \"rows\": 54035,\n  \"fields\": [\n    {\n      \"column\": \"cap-diameter\",\n      \"properties\": {\n        \"dtype\": \"number\",\n        \"std\": 359,\n        \"min\": 0,\n        \"max\": 1891,\n        \"num_unique_values\": 1847,\n        \"samples\": [\n          11,\n          1677,\n          44\n        ],\n        \"semantic_type\": \"\",\n        \"description\": \"\"\n      }\n    },\n    {\n      \"column\": \"cap-shape\",\n      \"properties\": {\n        \"dtype\": \"number\",\n        \"std\": 2,\n        \"min\": 0,\n        \"max\": 6,\n        \"num_unique_values\": 7,\n        \"samples\": [\n          2,\n          6,\n          5\n        ],\n        \"semantic_type\": \"\",\n        \"description\": \"\"\n      }\n    },\n    {\n      \"column\": \"gill-attachment\",\n      \"properties\": {\n        \"dtype\": \"number\",\n        \"std\": 2,\n        \"min\": 0,\n        \"max\": 6,\n        \"num_unique_values\": 7,\n        \"samples\": [\n          2,\n          0,\n          4\n        ],\n        \"semantic_type\": \"\",\n        \"description\": \"\"\n      }\n    },\n    {\n      \"column\": \"gill-color\",\n      \"properties\": {\n        \"dtype\": \"number\",\n        \"std\": 3,\n        \"min\": 0,\n        \"max\": 11,\n        \"num_unique_values\": 12,\n        \"samples\": [\n          4,\n          6,\n          10\n        ],\n        \"semantic_type\": \"\",\n        \"description\": \"\"\n      }\n    },\n    {\n      \"column\": \"stem-height\",\n      \"properties\": {\n        \"dtype\": \"number\",\n        \"std\": 0.6509686159221912,\n        \"min\": 0.0004256969608359,\n        \"max\": 3.8353196773222433,\n        \"num_unique_values\": 1455,\n        \"samples\": [\n          0.004404685938308,\n          1.826781637620518,\n          1.396199434131862\n        ],\n        \"semantic_type\": \"\",\n        \"description\": \"\"\n      }\n    },\n    {\n      \"column\": \"stem-width\",\n      \"properties\": {\n        \"dtype\": \"number\",\n        \"std\": 782,\n        \"min\": 0,\n        \"max\": 3569,\n        \"num_unique_values\": 3510,\n        \"samples\": [\n          3028,\n          1505,\n          3516\n        ],\n        \"semantic_type\": \"\",\n        \"description\": \"\"\n      }\n    },\n    {\n      \"column\": \"stem-color\",\n      \"properties\": {\n        \"dtype\": \"number\",\n        \"std\": 3,\n        \"min\": 0,\n        \"max\": 12,\n        \"num_unique_values\": 13,\n        \"samples\": [\n          7,\n          4,\n          11\n        ],\n        \"semantic_type\": \"\",\n        \"description\": \"\"\n      }\n    },\n    {\n      \"column\": \"season\",\n      \"properties\": {\n        \"dtype\": \"number\",\n        \"std\": 0.3055935859378124,\n        \"min\": 0.0273721330556057,\n        \"max\": 1.804272708628173,\n        \"num_unique_values\": 4,\n        \"samples\": [\n          0.9431945538974952,\n          0.0273721330556057,\n          1.804272708628173\n        ],\n        \"semantic_type\": \"\",\n        \"description\": \"\"\n      }\n    },\n    {\n      \"column\": \"class\",\n      \"properties\": {\n        \"dtype\": \"number\",\n        \"std\": 0,\n        \"min\": 0,\n        \"max\": 1,\n        \"num_unique_values\": 2,\n        \"samples\": [\n          0,\n          1\n        ],\n        \"semantic_type\": \"\",\n        \"description\": \"\"\n      }\n    }\n  ]\n}"
            }
          },
          "metadata": {},
          "execution_count": 66
        }
      ],
      "source": [
        "# Carrega arquivo csv usando Pandas usando uma URL\n",
        "\n",
        "# URL do arquivo CSV no GitHub\n",
        "url = \"https://raw.githubusercontent.com/kennedyf2r/mvp_sprint_2/3d13277119f451ee1001aa445e438003a3f06e06/mushroom_cleaned.csv\"\n",
        "\n",
        "# Carregar o dataset\n",
        "dataset = pd.read_csv(url)\n",
        "\n",
        "# Visualizar as primeiras linhas do dataset para verificar os cabeçalhos em português\n",
        "dataset.head()"
      ]
    },
    {
      "cell_type": "markdown",
      "metadata": {
        "id": "YXSJIb8-goiD"
      },
      "source": [
        "## 2.3 Separação em conjunto de treino e de teste"
      ]
    },
    {
      "cell_type": "code",
      "execution_count": null,
      "metadata": {
        "colab": {
          "base_uri": "https://localhost:8080/"
        },
        "id": "pnOWd8O7iFwW",
        "outputId": "97fcfd21-98eb-48b5-a6d0-dba69e0164e7"
      },
      "outputs": [
        {
          "output_type": "stream",
          "name": "stdout",
          "text": [
            "Dimensões dos conjuntos de treino:\n",
            "X_train: (43228, 8)\n",
            "y_train: (43228,)\n",
            "\n",
            "Dimensões dos conjuntos de teste:\n",
            "X_test: (10807, 8)\n",
            "y_test: (10807,)\n"
          ]
        }
      ],
      "source": [
        "# Separar os recursos (X) e a variável alvo (y)\n",
        "X = dataset.drop('class', axis=1)  # Recursos (todas as colunas exceto 'class')\n",
        "y = dataset['class']  # Variável alvo ('class')\n",
        "\n",
        "# Dividir o dataset em conjuntos de treino e teste (holdout)\n",
        "X_train, X_test, y_train, y_test = train_test_split(X, y, test_size=0.2, random_state=7)\n",
        "\n",
        "# Exibir as dimensões dos conjuntos de treino e teste\n",
        "print(\"Dimensões dos conjuntos de treino:\")\n",
        "print(\"X_train:\", X_train.shape)\n",
        "print(\"y_train:\", y_train.shape)\n",
        "print(\"\\nDimensões dos conjuntos de teste:\")\n",
        "print(\"X_test:\", X_test.shape)\n",
        "print(\"y_test:\", y_test.shape)"
      ]
    },
    {
      "cell_type": "markdown",
      "metadata": {
        "id": "nw2vgHjEknU_"
      },
      "source": [
        "## 2.4 Criação de Folds para a Validação Cruzada"
      ]
    },
    {
      "cell_type": "markdown",
      "metadata": {
        "id": "S4xRl6IdlDQ5"
      },
      "source": [
        "A validação cruzada é essencial na modelagem de machine learning, garantindo estimativas confiáveis do desempenho do modelo. Ao dividir os dados em folds, treinamos e testamos o modelo em várias combinações, proporcionando uma visão abrangente do seu desempenho. Com 10 folds, dividimos os dados em 10 partes iguais e repetimos o processo de treinamento e teste 10 vezes, obtendo uma média estável do desempenho do modelo."
      ]
    },
    {
      "cell_type": "code",
      "execution_count": null,
      "metadata": {
        "colab": {
          "base_uri": "https://localhost:8080/"
        },
        "id": "1ZnWDqBikxlH",
        "outputId": "16e82bc0-e58f-4fa9-c116-9ccd1ec5f3f9"
      },
      "outputs": [
        {
          "output_type": "stream",
          "name": "stdout",
          "text": [
            "Tamanho do Fold 1: Treino - 48631, Teste - 5404\n",
            "Tamanho do Fold 2: Treino - 48631, Teste - 5404\n",
            "Tamanho do Fold 3: Treino - 48631, Teste - 5404\n",
            "Tamanho do Fold 4: Treino - 48631, Teste - 5404\n",
            "Tamanho do Fold 5: Treino - 48631, Teste - 5404\n",
            "Tamanho do Fold 6: Treino - 48632, Teste - 5403\n",
            "Tamanho do Fold 7: Treino - 48632, Teste - 5403\n",
            "Tamanho do Fold 8: Treino - 48632, Teste - 5403\n",
            "Tamanho do Fold 9: Treino - 48632, Teste - 5403\n",
            "Tamanho do Fold 10: Treino - 48632, Teste - 5403\n"
          ]
        }
      ],
      "source": [
        "# Definindo o número de folds\n",
        "num_folds = 10\n",
        "\n",
        "# Inicializando o objeto KFold\n",
        "kf = KFold(n_splits=num_folds, shuffle=True, random_state=7)\n",
        "\n",
        "# Criando os folds\n",
        "for fold, (train_index, test_index) in enumerate(kf.split(X), 1):\n",
        "    X_train_fold, X_test_fold = X.iloc[train_index], X.iloc[test_index]\n",
        "    y_train_fold, y_test_fold = y.iloc[train_index], y.iloc[test_index]\n",
        "\n",
        "    # Aqui você pode treinar e testar seu modelo em cada fold\n",
        "    # Por exemplo:\n",
        "    # model.fit(X_train_fold, y_train_fold)\n",
        "    # accuracy = model.score(X_test_fold, y_test_fold)\n",
        "\n",
        "    # Printando o tamanho de cada fold (opcional)\n",
        "    print(f\"Tamanho do Fold {fold}: Treino - {len(train_index)}, Teste - {len(test_index)}\")"
      ]
    },
    {
      "cell_type": "markdown",
      "metadata": {
        "id": "o_mNtspHAB6I"
      },
      "source": [
        "# **3 - Modelagem e treinamento**"
      ]
    },
    {
      "cell_type": "markdown",
      "metadata": {
        "id": "qhqhg-QwAV3E"
      },
      "source": [
        "## 3.1 - Seleção dos algoritmos"
      ]
    },
    {
      "cell_type": "markdown",
      "metadata": {
        "id": "mZv2FIBzAhf1"
      },
      "source": [
        "Neste trabalho serão considerados 04 (quatro) algoritmos de classificação e 02 (dois) métodos de ensembles (modelos avançados), conforme listados a seguir:\n",
        "\n",
        "**Algoritmos de Classificação**:\n",
        "* Regressão Logística (LR)\n",
        "* k-nearest neighbours (KNN)\n",
        "* Árvore de Classificação (CART)\n",
        "* Naive Bayes (NB)\n",
        "\n",
        "**Métodos de ensembles**:\n",
        "* Extra Trees (ET)\n",
        "* AdaBoost (Ada)\n",
        "\n",
        "Outros algoritmos como SVM, Random Forest, Gradient Boosting e Voting Classifier também foram avaliados, porém, devido ao desempenho e o tempo de processamento para os tais, tornou-se inviável utilizá-los neste MVP. A aplicação dos algoritmos listados acima nos permitirá uma análise apropriada para o nosso caso de uso."
      ]
    },
    {
      "cell_type": "markdown",
      "metadata": {
        "id": "4j11AJZqDNw-"
      },
      "source": [
        "## 3.2 - **Criação e avaliação de modelos: linha de base** (Tempo de execução aproximado: 1 minuto)"
      ]
    },
    {
      "cell_type": "markdown",
      "source": [
        "Nessa seção, realizaremos o comparativo entre os diferentes modelos. Os resultados são obtidos na sequência (tempo de processamento próximo de 1 minuto)"
      ],
      "metadata": {
        "id": "CDtxT0B-nIzy"
      }
    },
    {
      "cell_type": "code",
      "source": [
        "np.random.seed(7) # definindo uma semente global\n",
        "\n",
        "# Lista que armazenará os modelos\n",
        "models = []\n",
        "\n",
        "# Criando os modelos e adicionando-os na lista de modelos\n",
        "models.append(('LR', LogisticRegression(max_iter=200)))\n",
        "models.append(('KNN', KNeighborsClassifier()))\n",
        "models.append(('CART', DecisionTreeClassifier()))\n",
        "models.append(('NB', GaussianNB()))\n",
        "\n",
        "# Definindo os parâmetros do classificador base para o BaggingClassifier\n",
        "base = DecisionTreeClassifier()\n",
        "num_trees = 100\n",
        "max_features = 3\n",
        "scoring = 'accuracy'\n",
        "\n",
        "# Criando os modelos para o VotingClassifier\n",
        "bases = []\n",
        "model1 = LogisticRegression(max_iter=200)\n",
        "bases.append(('logistic', model1))\n",
        "model2 = DecisionTreeClassifier()\n",
        "bases.append(('cart', model2))\n",
        "\n",
        "# Criando os ensembles e adicionando-os na lista de modelos\n",
        "models.append(('ET', ExtraTreesClassifier(n_estimators=num_trees, max_features=max_features)))\n",
        "models.append(('Ada', AdaBoostClassifier(n_estimators=num_trees)))\n",
        "\n",
        "# Listas para armazenar os resultados\n",
        "results = []\n",
        "names = []\n",
        "\n",
        "# Avaliação dos modelos\n",
        "for name, model in models:\n",
        "    cv_results = cross_val_score(model, X_train, y_train, cv=kf, scoring=scoring)\n",
        "    results.append(cv_results)\n",
        "    names.append(name)\n",
        "    msg = \"%s: %f (%f)\" % (name, cv_results.mean(), cv_results.std())\n",
        "    print(msg)\n",
        "\n",
        "# Boxplot de comparação dos modelos\n",
        "fig = plt.figure(figsize=(15,10))\n",
        "fig.suptitle('Comparação dos Modelos')\n",
        "ax = fig.add_subplot(111)\n",
        "plt.boxplot(results)\n",
        "ax.set_xticklabels(names)\n",
        "plt.show()"
      ],
      "metadata": {
        "colab": {
          "base_uri": "https://localhost:8080/",
          "height": 1000
        },
        "id": "W2kca1DynkKo",
        "outputId": "c80cad0b-c80a-48b7-ec14-7be4b5025936"
      },
      "execution_count": null,
      "outputs": [
        {
          "output_type": "stream",
          "name": "stdout",
          "text": [
            "LR: 0.630101 (0.005140)\n",
            "KNN: 0.715208 (0.005435)\n",
            "CART: 0.973929 (0.002006)\n",
            "NB: 0.637550 (0.005877)\n",
            "ET: 0.990446 (0.002041)\n",
            "Ada: 0.778801 (0.006438)\n"
          ]
        },
        {
          "output_type": "display_data",
          "data": {
            "text/plain": [
              "<Figure size 1500x1000 with 1 Axes>"
            ],
            "image/png": "[encoded data removed]"
          },
          "metadata": {}
        }
      ]
    },
    {
      "cell_type": "markdown",
      "source": [
        "* O modelo \"LR\" (Regressão Logística) tem uma acurácia mediana relativamente baixa, com uma variação moderada.\n",
        "\n",
        "* O modelo \"KNN\" (K-Vizinhos Mais Próximos) possui uma mediana de acurácia um pouco mais alta em comparação com a Regressão Logística, mas com uma variação semelhante.\n",
        "\n",
        "* O modelo \"CART\" (Árvores de Decisão) apresenta uma acurácia mediana significativamente maior do que os modelos anteriores, com uma variação relativamente baixa.\n",
        "\n",
        "* O modelo \"NB\" (Naive Bayes) tem uma mediana de acurácia semelhante à Regressão Logística, mas com uma variação um pouco mais alta.\n",
        "\n",
        "* O modelo \"ET\" (Extra Trees) mostra uma acurácia mediana muito alta, praticamente alcançando o máximo possível, e uma variação mínima.\n",
        "\n",
        "* O modelo \"Ada\" (AdaBoost) apresenta uma mediana de acurácia comparável à Árvore de Decisão, mas com uma variação ligeiramente maior.\n",
        "\n",
        "Em resumo, o modelo Extra Trees (ET) parece ter o melhor desempenho geral entre os modelos comparados, com uma acurácia mediana excepcionalmente alta e uma variação mínima, sugerindo uma consistência robusta em diferentes conjuntos de dados."
      ],
      "metadata": {
        "id": "WX64zYAYn7Py"
      }
    },
    {
      "cell_type": "markdown",
      "source": [
        "## 3.3 - Padronizados e normalização dos dados (Tempo de execução aproximado: 3 minutos)"
      ],
      "metadata": {
        "id": "sA_9egvoJG49"
      }
    },
    {
      "cell_type": "code",
      "source": [
        "np.random.seed(7) # definindo uma semente global para este bloco\n",
        "\n",
        "# Listas para armazenar os armazenar os pipelines e os resultados para todas as visões do dataset\n",
        "pipelines = []\n",
        "results = []\n",
        "names = []\n",
        "\n",
        "\n",
        "# Criando os elementos do pipeline\n",
        "\n",
        "# Algoritmos que serão utilizados\n",
        "reg_log = ('LR', LogisticRegression(max_iter=200))\n",
        "knn = ('KNN', KNeighborsClassifier())\n",
        "cart = ('CART', DecisionTreeClassifier())\n",
        "naive_bayes = ('NB', GaussianNB())\n",
        "extra_trees = ('ET', ExtraTreesClassifier(n_estimators=num_trees, max_features=max_features))\n",
        "adaboost = ('Ada', AdaBoostClassifier(n_estimators=num_trees))\n",
        "\n",
        "# Transformações que serão utilizadas\n",
        "standard_scaler = ('StandardScaler', StandardScaler())\n",
        "min_max_scaler = ('MinMaxScaler', MinMaxScaler())\n",
        "\n",
        "# Montando os pipelines\n",
        "\n",
        "# Dataset original\n",
        "pipelines.append(('LR-orig', Pipeline([reg_log])))\n",
        "pipelines.append(('KNN-orig', Pipeline([knn])))\n",
        "pipelines.append(('CART-orig', Pipeline([cart])))\n",
        "pipelines.append(('NB-orig', Pipeline([naive_bayes])))\n",
        "pipelines.append(('ET-orig', Pipeline([extra_trees])))\n",
        "pipelines.append(('Ada-orig', Pipeline([adaboost])))\n",
        "\n",
        "\n",
        "# Dataset Padronizado\n",
        "pipelines.append(('LR-padr', Pipeline([standard_scaler, reg_log])))\n",
        "pipelines.append(('KNN-padr', Pipeline([standard_scaler, knn])))\n",
        "pipelines.append(('CART-padr', Pipeline([standard_scaler, cart])))\n",
        "pipelines.append(('NB-padr', Pipeline([standard_scaler, naive_bayes])))\n",
        "pipelines.append(('ET-padr', Pipeline([standard_scaler, extra_trees])))\n",
        "pipelines.append(('Ada-padr', Pipeline([standard_scaler, adaboost])))\n",
        "\n",
        "# Dataset Normalizado\n",
        "pipelines.append(('LR-norm', Pipeline([min_max_scaler, reg_log])))\n",
        "pipelines.append(('KNN-norm', Pipeline([min_max_scaler, knn])))\n",
        "pipelines.append(('CART-norm', Pipeline([min_max_scaler, cart])))\n",
        "pipelines.append(('NB-norm', Pipeline([min_max_scaler, naive_bayes])))\n",
        "pipelines.append(('ET-norm', Pipeline([min_max_scaler, extra_trees])))\n",
        "pipelines.append(('Ada-norm', Pipeline([min_max_scaler, adaboost])))\n",
        "\n",
        "# Executando os pipelines\n",
        "for name, model in pipelines:\n",
        "    cv_results = cross_val_score(model, X_train, y_train, cv=kf, scoring=scoring)\n",
        "    results.append(cv_results)\n",
        "    names.append(name)\n",
        "    accuracy_mean = cv_results.mean()\n",
        "    accuracy_std = cv_results.std()\n",
        "    msg = \"%s: Acurácia - %.3f (Desvio Padrão - %.3f)\" % (name, accuracy_mean, accuracy_std)\n",
        "    print(msg)\n",
        "\n",
        "# Boxplot de comparação dos modelos\n",
        "fig = plt.figure(figsize=(25,6))\n",
        "fig.suptitle('Comparação dos Modelos - Dataset orginal, padronizado e normalizado')\n",
        "ax = fig.add_subplot(111)\n",
        "plt.boxplot(results)\n",
        "ax.set_xticklabels(names, rotation=90)\n",
        "plt.show()"
      ],
      "metadata": {
        "colab": {
          "base_uri": "https://localhost:8080/",
          "height": 799
        },
        "id": "eV1kksHmJQnz",
        "outputId": "3bcdf796-9f8d-40fc-e073-bcc5b4b5c897"
      },
      "execution_count": null,
      "outputs": [
        {
          "output_type": "stream",
          "name": "stdout",
          "text": [
            "LR-orig: Acurácia - 0.630 (Desvio Padrão - 0.005)\n",
            "KNN-orig: Acurácia - 0.715 (Desvio Padrão - 0.005)\n",
            "CART-orig: Acurácia - 0.974 (Desvio Padrão - 0.002)\n",
            "NB-orig: Acurácia - 0.638 (Desvio Padrão - 0.006)\n",
            "ET-orig: Acurácia - 0.990 (Desvio Padrão - 0.002)\n",
            "Ada-orig: Acurácia - 0.779 (Desvio Padrão - 0.006)\n",
            "LR-padr: Acurácia - 0.633 (Desvio Padrão - 0.005)\n",
            "KNN-padr: Acurácia - 0.987 (Desvio Padrão - 0.001)\n",
            "CART-padr: Acurácia - 0.974 (Desvio Padrão - 0.003)\n",
            "NB-padr: Acurácia - 0.637 (Desvio Padrão - 0.006)\n",
            "ET-padr: Acurácia - 0.990 (Desvio Padrão - 0.002)\n",
            "Ada-padr: Acurácia - 0.779 (Desvio Padrão - 0.006)\n",
            "LR-norm: Acurácia - 0.633 (Desvio Padrão - 0.005)\n",
            "KNN-norm: Acurácia - 0.989 (Desvio Padrão - 0.002)\n",
            "CART-norm: Acurácia - 0.974 (Desvio Padrão - 0.003)\n",
            "NB-norm: Acurácia - 0.637 (Desvio Padrão - 0.006)\n",
            "ET-norm: Acurácia - 0.990 (Desvio Padrão - 0.002)\n",
            "Ada-norm: Acurácia - 0.779 (Desvio Padrão - 0.006)\n"
          ]
        },
        {
          "output_type": "display_data",
          "data": {
            "text/plain": [
              "<Figure size 2500x600 with 1 Axes>"
            ],
            "image/png": "[encoded data removed]"
          },
          "metadata": {}
        }
      ]
    },
    {
      "cell_type": "markdown",
      "source": [
        "Este gráfico mostra a comparação de desempenho entre diferentes modelos de classificação em três cenários diferentes de pré-processamento dos dados: original, padronizado e normalizado. Cada modelo é representado por uma barra horizontal, onde a linha central indica a mediana da acurácia e a extensão da barra mostra a variação da acurácia dentro de um intervalo de confiança.\n",
        "\n",
        "* No cenário original, o modelo Extra Trees (ET) apresenta uma acurácia mediana muito alta em comparação com os outros modelos, seguido pelo modelo AdaBoost (Ada). Os demais modelos têm desempenho significativamente inferior.\n",
        "\n",
        "* No cenário padronizado, o modelo Extra Trees (ET) ainda mantém uma acurácia mediana muito alta, enquanto os outros modelos têm um desempenho semelhante ao cenário original, com exceção do modelo K-Vizinhos Mais Próximos (KNN), que mostra uma melhoria considerável.\n",
        "\n",
        "* No cenário normalizado, o modelo Extra Trees (ET) continua liderando em termos de acurácia mediana, seguido pelo modelo AdaBoost (Ada), enquanto os outros modelos têm um desempenho comparativamente inferior.\n",
        "\n",
        "Em resumo, o modelo Extra Trees (ET) destaca-se como o melhor em todos os cenários de pré-processamento dos dados, com uma acurácia mediana consistentemente alta, sugerindo sua robustez e capacidade de generalização em diferentes condições de dados."
      ],
      "metadata": {
        "id": "koGhGwtSobGH"
      }
    },
    {
      "cell_type": "markdown",
      "source": [
        "## 3.4 Ajustes de hiperparâmetros (Tempo de execução aproximado: 8 minutos)"
      ],
      "metadata": {
        "id": "6XSFW2zSO1qt"
      }
    },
    {
      "cell_type": "markdown",
      "source": [
        "Nesta seção, a título de exemplificação (sempre considerando o critério de tempo) escolheremos o algoritmo KNN para ajustar os hiperparâmetros. O código sugere ajustar o hiperparâmetro n_neighbors, que especifica o número de vizinhos a serem considerados durante a classificação. A seguir, utiliza-se o método Randomized Search para encontrar os melhores hiperparâmetros para o modelo K-Nearest Neighbors."
      ],
      "metadata": {
        "id": "R7CziufKO5uu"
      }
    },
    {
      "cell_type": "code",
      "source": [
        "# Tuning do KNN\n",
        "\n",
        "np.random.seed(7) # definindo uma semente global para este bloco\n",
        "\n",
        "pipelines = []\n",
        "\n",
        "# Definindo os componentes do pipeline\n",
        "knn = ('KNN', KNeighborsClassifier())\n",
        "standard_scaler = ('StandardScaler', StandardScaler())\n",
        "min_max_scaler = ('MinMaxScaler', MinMaxScaler())\n",
        "\n",
        "pipelines.append(('knn-orig', Pipeline(steps=[knn])))\n",
        "pipelines.append(('knn-padr', Pipeline(steps=[standard_scaler, knn])))\n",
        "pipelines.append(('knn-norm', Pipeline(steps=[min_max_scaler, knn])))\n",
        "\n",
        "param_grid = {\n",
        "    'KNN__n_neighbors': [1,3,5,7,9,11,13,15,17,19,21],\n",
        "    'KNN__metric': [\"euclidean\", \"manhattan\", \"minkowski\"],\n",
        "}\n",
        "\n",
        "# Prepara e executa o GridSearchCV\n",
        "for name, model in pipelines:\n",
        "    grid = GridSearchCV(estimator=model, param_grid=param_grid, scoring=scoring, cv=kf)\n",
        "    grid.fit(X_train, y_train)\n",
        "    # imprime a melhor configuração\n",
        "    print(\"Sem tratamento de missings: %s - Melhor: %f usando %s\" % (name, grid.best_score_, grid.best_params_))"
      ],
      "metadata": {
        "colab": {
          "base_uri": "https://localhost:8080/"
        },
        "id": "6lSdF6juPafC",
        "outputId": "bddd4bcf-6cea-4820-f8ba-63f54af5c200"
      },
      "execution_count": null,
      "outputs": [
        {
          "output_type": "stream",
          "name": "stdout",
          "text": [
            "Sem tratamento de missings: knn-orig - Melhor: 0.780906 usando {'KNN__metric': 'manhattan', 'KNN__n_neighbors': 5}\n",
            "Sem tratamento de missings: knn-padr - Melhor: 0.988711 usando {'KNN__metric': 'manhattan', 'KNN__n_neighbors': 3}\n",
            "Sem tratamento de missings: knn-norm - Melhor: 0.989497 usando {'KNN__metric': 'euclidean', 'KNN__n_neighbors': 5}\n"
          ]
        }
      ]
    },
    {
      "cell_type": "markdown",
      "metadata": {
        "id": "3q7SbGr8XaTH"
      },
      "source": [
        "# **4 - Avaliação de Resultados**"
      ]
    },
    {
      "cell_type": "markdown",
      "metadata": {
        "id": "tamSGu53T0fa"
      },
      "source": [
        "## 4.1 - Considerações sobre o algoritmo escolhido"
      ]
    },
    {
      "cell_type": "markdown",
      "metadata": {
        "id": "QOm757FaT7Z4"
      },
      "source": [
        "Dentre os modelos testados, o algoritmo que obteve o melhor desempenho em termos de acurácia média foi o Extra Trees (ET) no conjunto de dados original. Com uma acurácia média de 99%, o Extra Trees superou os demais modelos avaliados.\n",
        "\n",
        "A escolha do Extra Trees como o melhor modelo se baseia principalmente em seu desempenho excepcionalmente alto em termos de acurácia, indicando uma capacidade robusta de generalização para classificar corretamente as espécies de cogumelos com base nas características fornecidas. Além disso, o desvio padrão relativamente baixo (0.002) sugere uma consistência notável nas previsões do modelo.\n",
        "\n",
        "Outro ponto a ser considerado é a eficiência computacional do Extra Trees. Embora não tenhamos informações específicas sobre o tempo de treinamento do modelo, geralmente se espera que o Extra Trees tenha um desempenho comparável ao Random Forest em termos de eficiência, o que significa que pode ser uma escolha viável mesmo para conjuntos de dados maiores.\n",
        "\n",
        "Portanto, com base em seu desempenho excepcional e eficiência computacional, o Extra Trees se destaca como a escolha preferida para ajuste de hiperparâmetros e refinamento adicional, visando otimizar ainda mais sua performance e garantir resultados ainda mais confiáveis na classificação de espécies de cogumelos.\n",
        "\n",
        "Considerando a necessidade de um modelo com alta acurácia e potencial de generalização, o Extra Trees surge como a opção mais promissora para avançar no projeto de classificação de cogumelos."
      ]
    },
    {
      "cell_type": "markdown",
      "source": [
        "## 4.2 - Aplicação do modelo no conjunto de teste"
      ],
      "metadata": {
        "id": "f7n5OpdXW8aS"
      }
    },
    {
      "cell_type": "code",
      "source": [
        "# Criando um modelo com todo o conjunto de treino\n",
        "model = ExtraTreesClassifier(n_estimators=100, max_features='auto', random_state=7)\n",
        "model.fit(X_train, y_train)\n",
        "\n",
        "# Fazendo as predições com o conjunto de teste\n",
        "y_pred = model.predict(X_test)\n",
        "\n",
        "# Estimando a acurácia no conjunto de teste\n",
        "accuracy = accuracy_score(y_test, y_pred)\n",
        "print(\"Acurácia no conjunto de teste:\", accuracy)"
      ],
      "metadata": {
        "colab": {
          "base_uri": "https://localhost:8080/"
        },
        "id": "HCsYyr50XB-P",
        "outputId": "7eac1ea9-fa2b-4967-f334-9071b489110f"
      },
      "execution_count": null,
      "outputs": [
        {
          "output_type": "stream",
          "name": "stdout",
          "text": [
            "Acurácia no conjunto de teste: 0.9917645970204497\n"
          ]
        }
      ]
    },
    {
      "cell_type": "markdown",
      "source": [
        "Com uma acurácia de 99.18% no conjunto de teste, o modelo Extra Trees demonstrou um desempenho notável na classificação de cogumelos. Sua capacidade de generalizar bem os padrões aprendidos durante o treinamento indica confiabilidade e eficácia na tarefa de distinguir cogumelos comestíveis de venenosos. Portanto, o Extra Trees se destaca como uma escolha confiável e eficaz para esta tarefa de classificação."
      ],
      "metadata": {
        "id": "rKlgaBHwr8kN"
      }
    },
    {
      "cell_type": "markdown",
      "metadata": {
        "id": "cPx4qo1gdDHk"
      },
      "source": [
        "## 4.2 Verificando a ocorrência de overfitting (Tempo de execução aproximado: 1 minuto)"
      ]
    },
    {
      "cell_type": "code",
      "source": [
        "import matplotlib.pyplot as plt\n",
        "from sklearn.model_selection import learning_curve\n",
        "\n",
        "# Definindo o número de folds para a validação cruzada\n",
        "num_folds = 10\n",
        "\n",
        "# Calculando as curvas de aprendizado\n",
        "train_sizes, train_scores, test_scores = learning_curve(model, X_train, y_train, cv=num_folds)\n",
        "\n",
        "# Calculando as médias e os desvios padrão dos escores de treinamento e teste\n",
        "train_mean = np.mean(train_scores, axis=1)\n",
        "train_std = np.std(train_scores, axis=1)\n",
        "test_mean = np.mean(test_scores, axis=1)\n",
        "test_std = np.std(test_scores, axis=1)\n",
        "\n",
        "# Plotando as curvas de aprendizado\n",
        "plt.figure(figsize=(10, 6))\n",
        "plt.plot(train_sizes, train_mean, color='blue', marker='o', markersize=5, label='Treinamento')\n",
        "plt.fill_between(train_sizes, train_mean + train_std, train_mean - train_std, alpha=0.15, color='blue')\n",
        "plt.plot(train_sizes, test_mean, color='green', linestyle='--', marker='s', markersize=5, label='Teste')\n",
        "plt.fill_between(train_sizes, test_mean + test_std, test_mean - test_std, alpha=0.15, color='green')\n",
        "plt.title('Curvas de Aprendizado')\n",
        "plt.xlabel('Número de exemplos de treinamento')\n",
        "plt.ylabel('Acurácia')\n",
        "plt.grid()\n",
        "plt.legend(loc='lower right')\n",
        "plt.show()"
      ],
      "metadata": {
        "colab": {
          "base_uri": "https://localhost:8080/",
          "height": 565
        },
        "id": "xIgVRwNObbDJ",
        "outputId": "94ff06b9-6f67-43ee-cc78-130aaf06fe2e"
      },
      "execution_count": null,
      "outputs": [
        {
          "output_type": "display_data",
          "data": {
            "text/plain": [
              "<Figure size 1000x600 with 1 Axes>"
            ],
            "image/png": "[encoded data removed]"
          },
          "metadata": {}
        }
      ]
    },
    {
      "cell_type": "markdown",
      "source": [
        "Este gráfico mostra a acurácia do modelo Extra Trees conforme mais dados são utilizados para treinamento. Observamos que a acurácia no conjunto de treinamento permanece alta e constante, indicando uma boa capacidade de memorização dos dados. Enquanto isso, a acurácia no conjunto de teste aumenta com o número de exemplos de treinamento, mas parece estabilizar em um certo ponto. Isso sugere que o modelo está bem ajustado aos dados, sem sinais significativos de overfitting, e é capaz de generalizar bem para novos dados.\n"
      ],
      "metadata": {
        "id": "CKEluKIbdYWA"
      }
    },
    {
      "cell_type": "markdown",
      "metadata": {
        "id": "DQwc4TUEgTl9"
      },
      "source": [
        "## 4.3 - Descrição da solução encontrada e justificativas"
      ]
    },
    {
      "cell_type": "markdown",
      "metadata": {
        "id": "PO_LkvzEf721"
      },
      "source": [
        "Após uma análise detalhada do conjunto de dados sobre cogumelos, foi decidido adotar o algoritmo Extra Trees para desenvolver um modelo de classificação. Esta escolha foi embasada em diversos aspectos observados durante o processo de exploração e modelagem dos dados.\n",
        "\n",
        "* Complexidade e dimensionalidade dos dados: O conjunto de dados sobre cogumelos possui múltiplas características que podem influenciar na sua comestibilidade. Com 22 atributos, a complexidade do problema demanda um modelo capaz de lidar eficientemente com alta dimensionalidade. O algoritmo Extra Trees é conhecido por sua capacidade de lidar bem com grandes conjuntos de atributos sem exigir muito ajuste de hiperparâmetros.\n",
        "\n",
        "* Robustez contra overfitting: Durante a análise exploratória, notou-se a presença de diversas características que poderiam levar a um ajuste excessivo do modelo aos dados de treinamento, resultando em overfitting. O Extra Trees possui mecanismos internos de aleatorização que reduzem a propensão ao overfitting, tornando-o uma escolha adequada para lidar com esse desafio.\n",
        "\n",
        "* Desempenho e generalização: Os resultados obtidos durante a modelagem mostraram que o Extra Trees alcançou uma acurácia elevada tanto no conjunto de treinamento quanto no conjunto de teste. Além disso, não houve indícios de degradação significativa de desempenho ao generalizar para dados não vistos, o que confirma a capacidade do modelo de se adaptar bem a novos exemplos.\n",
        "\n",
        "* Eficiência computacional: O algoritmo Extra Trees é conhecido por sua eficiência computacional, o que o torna adequado para lidar com conjuntos de dados de tamanho moderado a grande. Isso é especialmente importante considerando o volume de dados disponíveis e a necessidade de processamento eficiente durante o treinamento e a avaliação do modelo.\n",
        "\n",
        "Com base nessas considerações, a solução encontrada emprega o algoritmo Extra Trees para classificação de cogumelos com base em suas características morfológicas. Este modelo demonstrou ser robusto, eficaz e capaz de generalizar bem para novos dados, atendendo aos requisitos do problema de classificação proposto."
      ]
    }
  ],
  "metadata": {
    "colab": {
      "provenance": [],
      "toc_visible": true,
      "include_colab_link": true
    },
    "kernelspec": {
      "display_name": "Python 3",
      "name": "python3"
    }
  },
  "nbformat": 4,
  "nbformat_minor": 0
}